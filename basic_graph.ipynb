{
 "cells": [
  {
   "cell_type": "markdown",
   "source": [
    "# Plotting Graphs with Python and Bokeh #"
   ],
   "metadata": {}
  },
  {
   "cell_type": "markdown",
   "source": [
    "## Making a Basic Graph ##"
   ],
   "metadata": {}
  },
  {
   "cell_type": "code",
   "execution_count": null,
   "source": [
    "from bokeh.plotting import figure\n",
    "from bokeh.io import output_file, show\n",
    "\n",
    "# prepare some test data\n",
    "x = [1, 2, 3, 4, 5]\n",
    "y = [6, 7, 8, 9, 10]\n",
    "\n",
    "# prepare the output file\n",
    "output_file(\"line.html\")\n",
    "\n",
    "# Create a figure object\n",
    "f = figure()\n",
    "\n",
    "# create line plot\n",
    "f.line(x, y)\n",
    "\n",
    "# write the plot to the figure object\n",
    "show(f)"
   ],
   "outputs": [],
   "metadata": {}
  },
  {
   "cell_type": "markdown",
   "source": [
    "![Line.png image file](/assets/img/Line_1.png)"
   ],
   "metadata": {}
  },
  {
   "cell_type": "markdown",
   "source": [
    "## Plotting Data read from CSV files using Pandas ##"
   ],
   "metadata": {}
  },
  {
   "cell_type": "code",
   "execution_count": 2,
   "source": [
    "from bokeh.plotting import figure\n",
    "from bokeh.io import output_file, show\n",
    "import pandas\n",
    "\n",
    "# prepare some test data\n",
    "df = pandas.read_csv('assets/csv/data.csv')\n",
    "x = df['x']\n",
    "y = df['y']\n",
    "\n",
    "# prepare the output file\n",
    "output_file(\"line2.html\")\n",
    "\n",
    "# Create a figure object\n",
    "f = figure()\n",
    "\n",
    "# create line plot\n",
    "f.line(x, y)\n",
    "\n",
    "# Add Title and formatting\n",
    "f.title.text = 'Cool Data'\n",
    "f.title.text_color = 'Gray'\n",
    "f.title.text_font_style = 'bold'\n",
    "f.xaxis.minor_tick_line_color = None\n",
    "f.yaxis.minor_tick_line_color = None\n",
    "f.xaxis.axis_label = 'X Axis Data'\n",
    "f.yaxis.axis_label = 'Y Axis Data'\n",
    "\n",
    "# write the plot to the figure object\n",
    "show(f)"
   ],
   "outputs": [],
   "metadata": {}
  },
  {
   "cell_type": "markdown",
   "source": [
    "![Line2.png image file](/assets/img/Line2.png)"
   ],
   "metadata": {}
  },
  {
   "cell_type": "markdown",
   "source": [
    "## Plotting Weather data as a Scatter Plot read from an Excel file using Pandas ##"
   ],
   "metadata": {}
  },
  {
   "cell_type": "code",
   "execution_count": 3,
   "source": [
    "from bokeh.plotting import figure\n",
    "from bokeh.io import output_file, show\n",
    "import pandas\n",
    "\n",
    "# Import the weather data\n",
    "df = pandas.read_excel('assets/xlsx/verlegenhuken.xlsx', sheet_name=0)\n",
    "\n",
    "# Temp and Pressure values in the Excel file have a scale factor of 10\n",
    "# Values need to be divided by 10 to get actual observations\n",
    "df['Temperature'] = df['Temperature']/10\n",
    "df['Pressure'] = df['Pressure']/10\n",
    "\n",
    "# prepare the output file\n",
    "output_file(\"weather.html\")\n",
    "\n",
    "# Create a figure object\n",
    "f = figure(plot_width=500, plot_height=400, tools='pan')\n",
    "\n",
    "# create line plot\n",
    "f.circle(df['Temperature'], df['Pressure'], size=0.5)\n",
    "\n",
    "# Add Title and formatting\n",
    "f.title.text = 'Temperature & Air Pressure'\n",
    "f.title.text_color = 'Gray'\n",
    "f.title.text_font = 'arial'\n",
    "f.title.text_font_style = 'bold'\n",
    "f.xaxis.minor_tick_line_color = None\n",
    "f.yaxis.minor_tick_line_color = None\n",
    "f.xaxis.axis_label = 'Temperature (°C)'\n",
    "f.yaxis.axis_label = 'Pressure (hPa)'\n",
    "\n",
    "# write the plot to the figure object\n",
    "show(f)"
   ],
   "outputs": [],
   "metadata": {}
  },
  {
   "cell_type": "markdown",
   "source": [
    "![weather_plot.png image file](/assets/img/weather_plot.png)"
   ],
   "metadata": {}
  }
 ],
 "metadata": {
  "kernelspec": {
   "name": "python381164bit38118705da4a6b5c40de9745dd9df0713a7a",
   "display_name": "Python 3.8.11 64-bit ('3.8.11')"
  },
  "language_info": {
   "codemirror_mode": {
    "name": "ipython",
    "version": 3
   },
   "file_extension": ".py",
   "mimetype": "text/x-python",
   "name": "python",
   "nbconvert_exporter": "python",
   "pygments_lexer": "ipython3",
   "version": "3.8.11-final"
  },
  "interpreter": {
   "hash": "8e5d8420cf790aca1f3df8a8ea82a056944aa3be2687f7d18f21263155acdcde"
  }
 },
 "nbformat": 4,
 "nbformat_minor": 5
}