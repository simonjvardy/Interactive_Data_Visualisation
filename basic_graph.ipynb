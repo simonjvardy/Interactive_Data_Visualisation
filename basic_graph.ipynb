{
 "cells": [
  {
   "cell_type": "markdown",
   "source": [
    "# Plotting Graphs with Python and Bokeh #"
   ],
   "metadata": {}
  },
  {
   "cell_type": "markdown",
   "source": [
    "## Making a Basic Graph ##"
   ],
   "metadata": {}
  },
  {
   "cell_type": "code",
   "execution_count": null,
   "source": [
    "from bokeh.plotting import figure\n",
    "from bokeh.io import output_file, show\n",
    "\n",
    "# prepare some test data\n",
    "x = [1, 2, 3, 4, 5]\n",
    "y = [6, 7, 8, 9, 10]\n",
    "\n",
    "# prepare the output file\n",
    "output_file(\"line.html\")\n",
    "\n",
    "# Create a figure object\n",
    "f = figure()\n",
    "\n",
    "# create line plot\n",
    "f.line(x, y)\n",
    "\n",
    "# write the plot to the figure object\n",
    "show(f)"
   ],
   "outputs": [],
   "metadata": {}
  },
  {
   "cell_type": "markdown",
   "source": [
    "![Line.png image file](/assets/img/Line_1.png)"
   ],
   "metadata": {}
  },
  {
   "cell_type": "markdown",
   "source": [
    "## Plotting Data read from CSV files using Pandas ##"
   ],
   "metadata": {}
  },
  {
   "cell_type": "code",
   "execution_count": null,
   "source": [
    "from bokeh.plotting import figure\n",
    "from bokeh.io import output_file, show\n",
    "import pandas\n",
    "\n",
    "# prepare some test data\n",
    "df = pandas.read_csv('assets/csv/data.csv')\n",
    "x = df['x']\n",
    "y = df['y']\n",
    "\n",
    "# prepare the output file\n",
    "output_file(\"line2.html\")\n",
    "\n",
    "# Create a figure object\n",
    "f = figure()\n",
    "\n",
    "# create line plot\n",
    "f.line(x, y)\n",
    "\n",
    "# Add Title and formatting\n",
    "f.title.text = 'Cool Data'\n",
    "f.title.text_color = 'Gray'\n",
    "f.title.text_font_style = 'bold'\n",
    "f.xaxis.minor_tick_line_color = None\n",
    "f.yaxis.minor_tick_line_color = None\n",
    "f.xaxis.axis_label = 'X Axis Data'\n",
    "f.yaxis.axis_label = 'Y Axis Data'\n",
    "\n",
    "# write the plot to the figure object\n",
    "show(f)"
   ],
   "outputs": [],
   "metadata": {}
  },
  {
   "cell_type": "markdown",
   "source": [
    "![Line2.png image file](/assets/img/Line2.png)"
   ],
   "metadata": {}
  },
  {
   "cell_type": "markdown",
   "source": [
    "## Plotting Weather data as a Scatter Plot read from an Excel file using Pandas ##"
   ],
   "metadata": {}
  },
  {
   "cell_type": "code",
   "execution_count": null,
   "source": [
    "from bokeh.plotting import figure\n",
    "from bokeh.io import output_file, show\n",
    "import pandas\n",
    "\n",
    "# Import the weather data\n",
    "df = pandas.read_excel('assets/xlsx/verlegenhuken.xlsx', sheet_name=0)\n",
    "\n",
    "# Temp and Pressure values in the Excel file have a scale factor of 10\n",
    "# Values need to be divided by 10 to get actual observations\n",
    "df['Temperature'] = df['Temperature']/10\n",
    "df['Pressure'] = df['Pressure']/10\n",
    "\n",
    "# prepare the output file\n",
    "output_file(\"weather.html\")\n",
    "\n",
    "# Create a figure object\n",
    "f = figure(plot_width=500, plot_height=400, tools='pan, reset')\n",
    "\n",
    "# create line plot\n",
    "f.circle(df['Temperature'], df['Pressure'], size=0.5)\n",
    "\n",
    "# Add Title and formatting\n",
    "f.title.text = 'Temperature & Air Pressure'\n",
    "f.title.text_color = 'Gray'\n",
    "f.title.text_font = 'times'\n",
    "f.title.text_font_style = 'bold italic'\n",
    "f.xaxis.minor_tick_line_color = 'Yellow'\n",
    "f.yaxis.minor_tick_line_color = 'Yellow'\n",
    "f.xaxis.axis_label = 'Temperature (°C)'\n",
    "f.yaxis.axis_label = 'Pressure (hPa)'\n",
    "\n",
    "# write the plot to the figure object\n",
    "show(f)"
   ],
   "outputs": [],
   "metadata": {}
  },
  {
   "source": [
    "![weather_plot.png image file](/assets/img/weather_plot2.png)"
   ],
   "cell_type": "markdown",
   "metadata": {}
  },
  {
   "source": [],
   "cell_type": "markdown",
   "metadata": {}
  },
  {
   "cell_type": "code",
   "execution_count": 17,
   "metadata": {},
   "outputs": [],
   "source": [
    "from bokeh.plotting import figure\n",
    "from bokeh.layouts import row\n",
    "from bokeh.io import output_file, show\n",
    "import pandas\n",
    "\n",
    "# Import the earthquake data\n",
    "df = pandas.read_csv('assets/csv/adbe.csv', parse_dates=['Date'])\n",
    "\n",
    "\n",
    "# prepare the output file\n",
    "output_file(\"stock_value.html\")\n",
    "\n",
    "# Create a figure object\n",
    "f1 = figure(x_axis_type='datetime',\n",
    "    sizing_mode='scale_both')\n",
    "f2 = figure(x_axis_type='datetime',\n",
    "    sizing_mode='scale_both')\n",
    "\n",
    "# create line plot\n",
    "f1.line(df['Date'], df['Open'], color='Blue', alpha=0.5)\n",
    "f1.line(df['Date'], df['High'], color='Red', alpha=0.5)\n",
    "f1.line(df['Date'], df['Low'], color='Purple', alpha=0.5)\n",
    "f1.line(df['Date'], df['Close'], color='Orange', alpha=0.5)\n",
    "f2.line(df['Date'], df['Volume'], color='Green', alpha=0.5)\n",
    "\n",
    "# Add Title and formatting\n",
    "f1.title.text = 'Stock Value'\n",
    "f1.title.text_color = 'Orange'\n",
    "f1.title.text_font = 'times'\n",
    "f1.title.text_font_style = 'italic'\n",
    "f1.xaxis.minor_tick_line_color = 'Yellow'\n",
    "f1.yaxis.minor_tick_line_color = 'Yellow'\n",
    "f1.xaxis.axis_label = 'Date'\n",
    "f1.yaxis.axis_label = 'Price'\n",
    "\n",
    "f2.title.text = 'Trading Volume'\n",
    "f2.title.text_color = 'Orange'\n",
    "f2.title.text_font = 'times'\n",
    "f2.title.text_font_style = 'italic'\n",
    "f2.xaxis.minor_tick_line_color = 'Yellow'\n",
    "f2.yaxis.minor_tick_line_color = 'Yellow'\n",
    "f2.xaxis.axis_label = 'Date'\n",
    "f2.yaxis.axis_label = 'Volume'\n",
    "\n",
    "# write the plot to the figure object\n",
    "show(row(f1,f2))"
   ]
  },
  {
   "source": [
    "![Stock Price image file](/assets/img/stock_price.png)"
   ],
   "cell_type": "markdown",
   "metadata": {}
  }
 ],
 "metadata": {
  "kernelspec": {
   "name": "python3",
   "display_name": "Python 3 (ipykernel)"
  },
  "language_info": {
   "codemirror_mode": {
    "name": "ipython",
    "version": 3
   },
   "file_extension": ".py",
   "mimetype": "text/x-python",
   "name": "python",
   "nbconvert_exporter": "python",
   "pygments_lexer": "ipython3",
   "version": "3.8.5-final"
  },
  "interpreter": {
   "hash": "8e5d8420cf790aca1f3df8a8ea82a056944aa3be2687f7d18f21263155acdcde"
  }
 },
 "nbformat": 4,
 "nbformat_minor": 5
}